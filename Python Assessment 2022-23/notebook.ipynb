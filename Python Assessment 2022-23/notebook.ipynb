{
  "nbformat": 4,
  "nbformat_minor": 0,
  "metadata": {
    "colab": {
      "name": "PythonAssessment_2022-23",
      "provenance": [],
      "collapsed_sections": []
    },
    "kernelspec": {
      "name": "python3",
      "display_name": "Python 3"
    },
    "language_info": {
      "name": "python"
    }
  },
  "cells": [
    {
      "cell_type": "markdown",
      "source": [
        "# Welcome to the **Python Assessment** of **Vertical Collaboration, Open Community**\n",
        "\n",
        "## About the dataset\n",
        "This dataset contains house sale prices for King County, which includes Seattle. It includes homes sold between May 2014 and May 2015.\n",
        "\n",
        "##### To pass the assessment, you must answer all 11 questions correctly ***Bonus section is optional*.\n",
        "\n",
        "#### Wish you all the best!!\n",
        "\n",
        "\n"
      ],
      "metadata": {
        "id": "hqlAwxycceLg"
      }
    },
    {
      "cell_type": "code",
      "source": [
        "import numpy as np\n",
        "import pandas as pd\n",
        "import matplotlib.pyplot as plt"
      ],
      "metadata": {
        "id": "wU_bXJPAcsQc"
      },
      "execution_count": null,
      "outputs": []
    },
    {
      "cell_type": "markdown",
      "source": [
        "Q1) Your understanding about (max 50 words)\n",
        "\n",
        "\n",
        "1.   NumPY: \n",
        "2.   Pandas: \n",
        "3.   MatPlotLib: \n",
        "\n"
      ],
      "metadata": {
        "id": "4XxnlWfzd7xk"
      }
    },
    {
      "cell_type": "markdown",
      "source": [
        "Q2) Upload the given dataset into the folder named sample_data"
      ],
      "metadata": {
        "id": "XmRRFzQccy3j"
      }
    },
    {
      "cell_type": "code",
      "source": [
        "sales = pd.read_csv('sample_data/kc_house_data.csv')"
      ],
      "metadata": {
        "id": "npg0aacAcuDR"
      },
      "execution_count": null,
      "outputs": []
    },
    {
      "cell_type": "markdown",
      "source": [
        "Q2) Find out the total number of rows and columns present in our dataset"
      ],
      "metadata": {
        "id": "zvQY-iP4c4HD"
      }
    },
    {
      "cell_type": "code",
      "source": [
        "# your code here"
      ],
      "metadata": {
        "id": "E22av13Mc3eE"
      },
      "execution_count": null,
      "outputs": []
    },
    {
      "cell_type": "markdown",
      "source": [
        "Q3) Find out the mean of Price"
      ],
      "metadata": {
        "id": "R6EDQ3U7dMii"
      }
    },
    {
      "cell_type": "code",
      "source": [
        "# your code here"
      ],
      "metadata": {
        "id": "2yVwB0Ztc9zz"
      },
      "execution_count": null,
      "outputs": []
    },
    {
      "cell_type": "markdown",
      "source": [
        "Q4) Find out which zipcode has maximum no of sales"
      ],
      "metadata": {
        "id": "2QO6-TXvddnN"
      }
    },
    {
      "cell_type": "code",
      "source": [
        "# your code here"
      ],
      "metadata": {
        "id": "vlSAsQfQfgg2"
      },
      "execution_count": null,
      "outputs": []
    },
    {
      "cell_type": "markdown",
      "source": [
        "Q5) Make an array displaying type of house grade present"
      ],
      "metadata": {
        "id": "eeLeVaWBdj7e"
      }
    },
    {
      "cell_type": "code",
      "source": [
        "# your code here"
      ],
      "metadata": {
        "id": "TOVrRt4sfhrK"
      },
      "execution_count": null,
      "outputs": []
    },
    {
      "cell_type": "markdown",
      "source": [
        "Q6) Find out the total no sales in conditions 3 and 4"
      ],
      "metadata": {
        "id": "vyYhtqQDdxqj"
      }
    },
    {
      "cell_type": "code",
      "source": [
        "# your code here"
      ],
      "metadata": {
        "id": "SkBMOVvafiei"
      },
      "execution_count": null,
      "outputs": []
    },
    {
      "cell_type": "markdown",
      "source": [
        "Q7) Find out the top-five ids with the highest prices"
      ],
      "metadata": {
        "id": "AHs7ZLKrdTsD"
      }
    },
    {
      "cell_type": "code",
      "source": [
        "# your code here"
      ],
      "metadata": {
        "id": "BS653UBKfjfK"
      },
      "execution_count": null,
      "outputs": []
    },
    {
      "cell_type": "markdown",
      "source": [
        "Q8) Draw a pie chart displaying the types of house conditions present"
      ],
      "metadata": {
        "id": "XP54QULPdZTh"
      }
    },
    {
      "cell_type": "code",
      "source": [
        "# your code here"
      ],
      "metadata": {
        "id": "5XP9quaFfkaI"
      },
      "execution_count": null,
      "outputs": []
    },
    {
      "cell_type": "markdown",
      "source": [
        "Q9) Draw a bar graph displaying the no of sales"
      ],
      "metadata": {
        "id": "8gkXMakRdgnZ"
      }
    },
    {
      "cell_type": "code",
      "source": [
        "# your code here"
      ],
      "metadata": {
        "id": "LFwCnSCUflFB"
      },
      "execution_count": null,
      "outputs": []
    },
    {
      "cell_type": "markdown",
      "source": [
        "Q10) Draw a graph that display the no of sales according to the date"
      ],
      "metadata": {
        "id": "_LGgh106dsBQ"
      }
    },
    {
      "cell_type": "code",
      "source": [
        "# your code here"
      ],
      "metadata": {
        "id": "pcKacoICflze"
      },
      "execution_count": null,
      "outputs": []
    },
    {
      "cell_type": "markdown",
      "source": [
        "Q11) Draw a bar graph that displays the no of sales accoring to the house grade"
      ],
      "metadata": {
        "id": "jFgB7RxAd0rn"
      }
    },
    {
      "cell_type": "code",
      "source": [
        "# your code here"
      ],
      "metadata": {
        "id": "ZXPUs_hXfmdR"
      },
      "execution_count": null,
      "outputs": []
    },
    {
      "cell_type": "markdown",
      "source": [
        "### BONUS"
      ],
      "metadata": {
        "id": "HXIvKNK7doXJ"
      }
    },
    {
      "cell_type": "markdown",
      "source": [
        "Q1) Is there any relationship present between Year Built and Price? If yes, Please explain."
      ],
      "metadata": {
        "id": "PRP0ZaKFe8xt"
      }
    },
    {
      "cell_type": "code",
      "source": [
        "# your code here"
      ],
      "metadata": {
        "id": "FXoVpaJKdPSv"
      },
      "execution_count": null,
      "outputs": []
    },
    {
      "cell_type": "markdown",
      "source": [
        "Q2 ) Add 1.8% TAX on every sale Price within Zipcode 98103"
      ],
      "metadata": {
        "id": "QQvNxYe5d3-3"
      }
    },
    {
      "cell_type": "code",
      "source": [
        "# your code here"
      ],
      "metadata": {
        "id": "lWDids4yfEAz"
      },
      "execution_count": null,
      "outputs": []
    }
  ]
}